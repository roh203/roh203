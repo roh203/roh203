{
  "nbformat": 4,
  "nbformat_minor": 0,
  "metadata": {
    "colab": {
      "provenance": [],
      "mount_file_id": "1SCgmFUap9jQL708ML2e2nBy71BixxECE",
      "authorship_tag": "ABX9TyMD65W1vOQ6/e3ub4UHMvR+",
      "include_colab_link": true
    },
    "kernelspec": {
      "name": "python3",
      "display_name": "Python 3"
    },
    "language_info": {
      "name": "python"
    }
  },
  "cells": [
    {
      "cell_type": "markdown",
      "metadata": {
        "id": "view-in-github",
        "colab_type": "text"
      },
      "source": [
        "<a href=\"https://colab.research.google.com/github/roh203/Bioethanol-production-predictor/blob/main/mill1_91.ipynb\" target=\"_parent\"><img src=\"https://colab.research.google.com/assets/colab-badge.svg\" alt=\"Open In Colab\"/></a>"
      ]
    },
    {
      "cell_type": "code",
      "execution_count": null,
      "metadata": {
        "id": "piL97wE3UW-N"
      },
      "outputs": [],
      "source": [
        "from tensorflow.keras.models import load_model\n",
        "new_model = load_model('/content/BiEt.h5')"
      ]
    },
    {
      "cell_type": "code",
      "source": [
        "from google.colab import drive\n",
        "drive.mount('/content/drive')"
      ],
      "metadata": {
        "colab": {
          "base_uri": "https://localhost:8080/"
        },
        "id": "10T1ZOaOc71Z",
        "outputId": "88cd9115-964e-49c9-dbdd-67fd7f6370ab"
      },
      "execution_count": null,
      "outputs": [
        {
          "output_type": "stream",
          "name": "stdout",
          "text": [
            "Drive already mounted at /content/drive; to attempt to forcibly remount, call drive.mount(\"/content/drive\", force_remount=True).\n"
          ]
        }
      ]
    },
    {
      "cell_type": "code",
      "source": [
        "new_model.summary()"
      ],
      "metadata": {
        "colab": {
          "base_uri": "https://localhost:8080/"
        },
        "id": "K7_lSZrhUpBz",
        "outputId": "1f847ef6-b10e-43c2-e642-9969d39c7daa"
      },
      "execution_count": null,
      "outputs": [
        {
          "output_type": "stream",
          "name": "stdout",
          "text": [
            "Model: \"sequential_6\"\n",
            "_________________________________________________________________\n",
            " Layer (type)                Output Shape              Param #   \n",
            "=================================================================\n",
            " dense_10 (Dense)            (None, 8)                 72        \n",
            "                                                                 \n",
            " dense_11 (Dense)            (None, 10)                90        \n",
            "                                                                 \n",
            " dense_12 (Dense)            (None, 1)                 11        \n",
            "                                                                 \n",
            "=================================================================\n",
            "Total params: 173\n",
            "Trainable params: 173\n",
            "Non-trainable params: 0\n",
            "_________________________________________________________________\n"
          ]
        }
      ]
    },
    {
      "cell_type": "code",
      "source": [
        "import pandas as pd\n",
        "import numpy as np"
      ],
      "metadata": {
        "id": "oWMydWMTU_av"
      },
      "execution_count": null,
      "outputs": []
    },
    {
      "cell_type": "code",
      "source": [
        "df = pd.read_csv('/content/drive/MyDrive/mill(1).csv')"
      ],
      "metadata": {
        "id": "XMDRKmfxVFY6"
      },
      "execution_count": null,
      "outputs": []
    },
    {
      "cell_type": "code",
      "source": [
        "# df = pd.read_csv('/content/mill(1).csv')"
      ],
      "metadata": {
        "id": "KqWiF_Li3pgW"
      },
      "execution_count": null,
      "outputs": []
    },
    {
      "cell_type": "code",
      "source": [
        "df_x = df.iloc[:,:-1]\n",
        "df_y = df.iloc[:,-1]"
      ],
      "metadata": {
        "id": "PasbVXotVRTY"
      },
      "execution_count": null,
      "outputs": []
    },
    {
      "cell_type": "code",
      "source": [
        "from sklearn.preprocessing import MinMaxScaler\n",
        "ns = MinMaxScaler()\n",
        "ns.fit(df_x)"
      ],
      "metadata": {
        "colab": {
          "base_uri": "https://localhost:8080/"
        },
        "id": "1HU0SUNTVTo7",
        "outputId": "51dc27dc-b1d5-40e4-d45f-96aead72b0c5"
      },
      "execution_count": null,
      "outputs": [
        {
          "output_type": "execute_result",
          "data": {
            "text/plain": [
              "MinMaxScaler()"
            ]
          },
          "metadata": {},
          "execution_count": 10
        }
      ]
    },
    {
      "cell_type": "code",
      "source": [
        "df_x_ns = ns.transform(df_x)\n",
        "data = pd.DataFrame(df_x_ns)\n",
        "data.columns=['YV','FM','PHIW','TSS','TS','TRS','PH','WFH']\n",
        "df_x_ns_d =data"
      ],
      "metadata": {
        "id": "lBWRnlK4VWAu"
      },
      "execution_count": null,
      "outputs": []
    },
    {
      "cell_type": "code",
      "source": [
        "df_x_ns_d"
      ],
      "metadata": {
        "colab": {
          "base_uri": "https://localhost:8080/",
          "height": 424
        },
        "id": "uJhdkmumr85L",
        "outputId": "1571dbb6-89bc-4a1e-9d1a-89c0ad60cead"
      },
      "execution_count": null,
      "outputs": [
        {
          "output_type": "execute_result",
          "data": {
            "text/plain": [
              "          YV        FM      PHIW       TSS        TS       TRS        PH  \\\n",
              "0   0.444444  0.379310  0.277778  0.666667  0.916667  0.498599  0.015873   \n",
              "1   0.722222  0.372414  0.666667  0.555556  0.833333  0.694678  0.000000   \n",
              "2   0.000000  0.337931  1.000000  0.111111  0.500000  0.750700  0.000000   \n",
              "3   1.000000  0.324138  0.555556  0.000000  0.416667  0.778711  0.023810   \n",
              "4   0.416667  0.358621  0.444444  0.555556  0.916667  0.834734  0.095238   \n",
              "..       ...       ...       ...       ...       ...       ...       ...   \n",
              "95  0.666667  0.248276  0.583333  0.944444  0.375000  0.476190  0.333333   \n",
              "96  0.638889  0.227586  0.555556  0.888889  0.333333  0.504202  0.380952   \n",
              "97  0.611111  0.206897  0.527778  0.833333  0.291667  0.490196  0.428571   \n",
              "98  0.583333  0.186207  0.500000  0.777778  0.250000  0.476190  0.476190   \n",
              "99  0.555556  0.165517  0.472222  0.722222  0.208333  0.462185  0.523810   \n",
              "\n",
              "         WFH  \n",
              "0   0.113208  \n",
              "1   1.000000  \n",
              "2   0.132075  \n",
              "3   0.113208  \n",
              "4   0.169811  \n",
              "..       ...  \n",
              "95  0.113208  \n",
              "96  0.127358  \n",
              "97  0.141509  \n",
              "98  0.132075  \n",
              "99  0.122642  \n",
              "\n",
              "[100 rows x 8 columns]"
            ],
            "text/html": [
              "\n",
              "  <div id=\"df-99ae3cd7-57d4-46e2-89f8-23731d5b4fac\">\n",
              "    <div class=\"colab-df-container\">\n",
              "      <div>\n",
              "<style scoped>\n",
              "    .dataframe tbody tr th:only-of-type {\n",
              "        vertical-align: middle;\n",
              "    }\n",
              "\n",
              "    .dataframe tbody tr th {\n",
              "        vertical-align: top;\n",
              "    }\n",
              "\n",
              "    .dataframe thead th {\n",
              "        text-align: right;\n",
              "    }\n",
              "</style>\n",
              "<table border=\"1\" class=\"dataframe\">\n",
              "  <thead>\n",
              "    <tr style=\"text-align: right;\">\n",
              "      <th></th>\n",
              "      <th>YV</th>\n",
              "      <th>FM</th>\n",
              "      <th>PHIW</th>\n",
              "      <th>TSS</th>\n",
              "      <th>TS</th>\n",
              "      <th>TRS</th>\n",
              "      <th>PH</th>\n",
              "      <th>WFH</th>\n",
              "    </tr>\n",
              "  </thead>\n",
              "  <tbody>\n",
              "    <tr>\n",
              "      <th>0</th>\n",
              "      <td>0.444444</td>\n",
              "      <td>0.379310</td>\n",
              "      <td>0.277778</td>\n",
              "      <td>0.666667</td>\n",
              "      <td>0.916667</td>\n",
              "      <td>0.498599</td>\n",
              "      <td>0.015873</td>\n",
              "      <td>0.113208</td>\n",
              "    </tr>\n",
              "    <tr>\n",
              "      <th>1</th>\n",
              "      <td>0.722222</td>\n",
              "      <td>0.372414</td>\n",
              "      <td>0.666667</td>\n",
              "      <td>0.555556</td>\n",
              "      <td>0.833333</td>\n",
              "      <td>0.694678</td>\n",
              "      <td>0.000000</td>\n",
              "      <td>1.000000</td>\n",
              "    </tr>\n",
              "    <tr>\n",
              "      <th>2</th>\n",
              "      <td>0.000000</td>\n",
              "      <td>0.337931</td>\n",
              "      <td>1.000000</td>\n",
              "      <td>0.111111</td>\n",
              "      <td>0.500000</td>\n",
              "      <td>0.750700</td>\n",
              "      <td>0.000000</td>\n",
              "      <td>0.132075</td>\n",
              "    </tr>\n",
              "    <tr>\n",
              "      <th>3</th>\n",
              "      <td>1.000000</td>\n",
              "      <td>0.324138</td>\n",
              "      <td>0.555556</td>\n",
              "      <td>0.000000</td>\n",
              "      <td>0.416667</td>\n",
              "      <td>0.778711</td>\n",
              "      <td>0.023810</td>\n",
              "      <td>0.113208</td>\n",
              "    </tr>\n",
              "    <tr>\n",
              "      <th>4</th>\n",
              "      <td>0.416667</td>\n",
              "      <td>0.358621</td>\n",
              "      <td>0.444444</td>\n",
              "      <td>0.555556</td>\n",
              "      <td>0.916667</td>\n",
              "      <td>0.834734</td>\n",
              "      <td>0.095238</td>\n",
              "      <td>0.169811</td>\n",
              "    </tr>\n",
              "    <tr>\n",
              "      <th>...</th>\n",
              "      <td>...</td>\n",
              "      <td>...</td>\n",
              "      <td>...</td>\n",
              "      <td>...</td>\n",
              "      <td>...</td>\n",
              "      <td>...</td>\n",
              "      <td>...</td>\n",
              "      <td>...</td>\n",
              "    </tr>\n",
              "    <tr>\n",
              "      <th>95</th>\n",
              "      <td>0.666667</td>\n",
              "      <td>0.248276</td>\n",
              "      <td>0.583333</td>\n",
              "      <td>0.944444</td>\n",
              "      <td>0.375000</td>\n",
              "      <td>0.476190</td>\n",
              "      <td>0.333333</td>\n",
              "      <td>0.113208</td>\n",
              "    </tr>\n",
              "    <tr>\n",
              "      <th>96</th>\n",
              "      <td>0.638889</td>\n",
              "      <td>0.227586</td>\n",
              "      <td>0.555556</td>\n",
              "      <td>0.888889</td>\n",
              "      <td>0.333333</td>\n",
              "      <td>0.504202</td>\n",
              "      <td>0.380952</td>\n",
              "      <td>0.127358</td>\n",
              "    </tr>\n",
              "    <tr>\n",
              "      <th>97</th>\n",
              "      <td>0.611111</td>\n",
              "      <td>0.206897</td>\n",
              "      <td>0.527778</td>\n",
              "      <td>0.833333</td>\n",
              "      <td>0.291667</td>\n",
              "      <td>0.490196</td>\n",
              "      <td>0.428571</td>\n",
              "      <td>0.141509</td>\n",
              "    </tr>\n",
              "    <tr>\n",
              "      <th>98</th>\n",
              "      <td>0.583333</td>\n",
              "      <td>0.186207</td>\n",
              "      <td>0.500000</td>\n",
              "      <td>0.777778</td>\n",
              "      <td>0.250000</td>\n",
              "      <td>0.476190</td>\n",
              "      <td>0.476190</td>\n",
              "      <td>0.132075</td>\n",
              "    </tr>\n",
              "    <tr>\n",
              "      <th>99</th>\n",
              "      <td>0.555556</td>\n",
              "      <td>0.165517</td>\n",
              "      <td>0.472222</td>\n",
              "      <td>0.722222</td>\n",
              "      <td>0.208333</td>\n",
              "      <td>0.462185</td>\n",
              "      <td>0.523810</td>\n",
              "      <td>0.122642</td>\n",
              "    </tr>\n",
              "  </tbody>\n",
              "</table>\n",
              "<p>100 rows × 8 columns</p>\n",
              "</div>\n",
              "      <button class=\"colab-df-convert\" onclick=\"convertToInteractive('df-99ae3cd7-57d4-46e2-89f8-23731d5b4fac')\"\n",
              "              title=\"Convert this dataframe to an interactive table.\"\n",
              "              style=\"display:none;\">\n",
              "        \n",
              "  <svg xmlns=\"http://www.w3.org/2000/svg\" height=\"24px\"viewBox=\"0 0 24 24\"\n",
              "       width=\"24px\">\n",
              "    <path d=\"M0 0h24v24H0V0z\" fill=\"none\"/>\n",
              "    <path d=\"M18.56 5.44l.94 2.06.94-2.06 2.06-.94-2.06-.94-.94-2.06-.94 2.06-2.06.94zm-11 1L8.5 8.5l.94-2.06 2.06-.94-2.06-.94L8.5 2.5l-.94 2.06-2.06.94zm10 10l.94 2.06.94-2.06 2.06-.94-2.06-.94-.94-2.06-.94 2.06-2.06.94z\"/><path d=\"M17.41 7.96l-1.37-1.37c-.4-.4-.92-.59-1.43-.59-.52 0-1.04.2-1.43.59L10.3 9.45l-7.72 7.72c-.78.78-.78 2.05 0 2.83L4 21.41c.39.39.9.59 1.41.59.51 0 1.02-.2 1.41-.59l7.78-7.78 2.81-2.81c.8-.78.8-2.07 0-2.86zM5.41 20L4 18.59l7.72-7.72 1.47 1.35L5.41 20z\"/>\n",
              "  </svg>\n",
              "      </button>\n",
              "      \n",
              "  <style>\n",
              "    .colab-df-container {\n",
              "      display:flex;\n",
              "      flex-wrap:wrap;\n",
              "      gap: 12px;\n",
              "    }\n",
              "\n",
              "    .colab-df-convert {\n",
              "      background-color: #E8F0FE;\n",
              "      border: none;\n",
              "      border-radius: 50%;\n",
              "      cursor: pointer;\n",
              "      display: none;\n",
              "      fill: #1967D2;\n",
              "      height: 32px;\n",
              "      padding: 0 0 0 0;\n",
              "      width: 32px;\n",
              "    }\n",
              "\n",
              "    .colab-df-convert:hover {\n",
              "      background-color: #E2EBFA;\n",
              "      box-shadow: 0px 1px 2px rgba(60, 64, 67, 0.3), 0px 1px 3px 1px rgba(60, 64, 67, 0.15);\n",
              "      fill: #174EA6;\n",
              "    }\n",
              "\n",
              "    [theme=dark] .colab-df-convert {\n",
              "      background-color: #3B4455;\n",
              "      fill: #D2E3FC;\n",
              "    }\n",
              "\n",
              "    [theme=dark] .colab-df-convert:hover {\n",
              "      background-color: #434B5C;\n",
              "      box-shadow: 0px 1px 3px 1px rgba(0, 0, 0, 0.15);\n",
              "      filter: drop-shadow(0px 1px 2px rgba(0, 0, 0, 0.3));\n",
              "      fill: #FFFFFF;\n",
              "    }\n",
              "  </style>\n",
              "\n",
              "      <script>\n",
              "        const buttonEl =\n",
              "          document.querySelector('#df-99ae3cd7-57d4-46e2-89f8-23731d5b4fac button.colab-df-convert');\n",
              "        buttonEl.style.display =\n",
              "          google.colab.kernel.accessAllowed ? 'block' : 'none';\n",
              "\n",
              "        async function convertToInteractive(key) {\n",
              "          const element = document.querySelector('#df-99ae3cd7-57d4-46e2-89f8-23731d5b4fac');\n",
              "          const dataTable =\n",
              "            await google.colab.kernel.invokeFunction('convertToInteractive',\n",
              "                                                     [key], {});\n",
              "          if (!dataTable) return;\n",
              "\n",
              "          const docLinkHtml = 'Like what you see? Visit the ' +\n",
              "            '<a target=\"_blank\" href=https://colab.research.google.com/notebooks/data_table.ipynb>data table notebook</a>'\n",
              "            + ' to learn more about interactive tables.';\n",
              "          element.innerHTML = '';\n",
              "          dataTable['output_type'] = 'display_data';\n",
              "          await google.colab.output.renderOutput(dataTable, element);\n",
              "          const docLink = document.createElement('div');\n",
              "          docLink.innerHTML = docLinkHtml;\n",
              "          element.appendChild(docLink);\n",
              "        }\n",
              "      </script>\n",
              "    </div>\n",
              "  </div>\n",
              "  "
            ]
          },
          "metadata": {},
          "execution_count": 12
        }
      ]
    },
    {
      "cell_type": "code",
      "source": [
        "from sklearn.model_selection import train_test_split\n",
        "x_train, x_test, y_train, y_test = train_test_split(df_x_ns_d,df_y, test_size = .2, random_state = 103)"
      ],
      "metadata": {
        "id": "itV4Sz-qVXWu"
      },
      "execution_count": null,
      "outputs": []
    },
    {
      "cell_type": "code",
      "source": [
        "y_pred = new_model.predict(x_test)\n",
        "ytrain_pred = new_model.predict(x_train)"
      ],
      "metadata": {
        "colab": {
          "base_uri": "https://localhost:8080/"
        },
        "id": "wdK_kpAyVaXn",
        "outputId": "dcc358fd-46e3-4bb1-eccc-a2d0e39a7113"
      },
      "execution_count": null,
      "outputs": [
        {
          "output_type": "stream",
          "name": "stdout",
          "text": [
            "1/1 [==============================] - 0s 350ms/step\n",
            "3/3 [==============================] - 0s 4ms/step\n"
          ]
        }
      ]
    },
    {
      "cell_type": "code",
      "source": [
        "from sklearn.metrics import r2_score\n",
        "print(r2_score(y_train,ytrain_pred))\n",
        "print(r2_score(y_test,y_pred))"
      ],
      "metadata": {
        "colab": {
          "base_uri": "https://localhost:8080/"
        },
        "id": "QoOsnMW-VydC",
        "outputId": "7abfb12e-7a29-4bac-a9a3-6c80c5ae6a0f"
      },
      "execution_count": null,
      "outputs": [
        {
          "output_type": "stream",
          "name": "stdout",
          "text": [
            "0.8911184750444207\n",
            "0.9114927408868371\n"
          ]
        }
      ]
    },
    {
      "cell_type": "code",
      "source": [
        "def minmax(x,x_min,x_max):\n",
        "  x_nor = (x-x_min)/(x_max-x_min)\n",
        "  return x_nor"
      ],
      "metadata": {
        "id": "9rwctUEB7l9A"
      },
      "execution_count": null,
      "outputs": []
    },
    {
      "cell_type": "code",
      "source": [
        "col = []\n",
        "for i in range(len(df_x.columns)):\n",
        "  col.append(df_x.columns[i])"
      ],
      "metadata": {
        "id": "gnSM00M2REZI"
      },
      "execution_count": null,
      "outputs": []
    },
    {
      "cell_type": "code",
      "source": [
        "df_max = []\n",
        "df_min = []\n",
        "for i in (col):\n",
        "  df_max.append(df_x[i].max())\n",
        "  df_min.append(df_x[i].min())"
      ],
      "metadata": {
        "id": "S9PScqS7_zZX"
      },
      "execution_count": null,
      "outputs": []
    },
    {
      "cell_type": "code",
      "source": [
        "x_exp_nn = {'Yeast vessels(x10^8)': 2.61,\n",
        " 'Pre fermenters': 1.36,\n",
        " 'Fermenters': 4.6,\n",
        " 'TSS of fermented wash before decanter': 16000,\n",
        " 'TSS of clarified wash after decanter': 8400,\n",
        " 'TRS of molasses received for process':59.52,\n",
        " 'Fermentation water pH': 6.32, \n",
        " 'Fermentation water hardness': 108}"
      ],
      "metadata": {
        "id": "Q1iEcbU-xbOr"
      },
      "execution_count": null,
      "outputs": []
    },
    {
      "cell_type": "code",
      "source": [
        "x = []\n",
        "for i in col:\n",
        "  x.append(x_exp_nn.get(i))"
      ],
      "metadata": {
        "id": "ppIcRHCEYVhy"
      },
      "execution_count": null,
      "outputs": []
    },
    {
      "cell_type": "code",
      "source": [
        "x_exp = []\n",
        "for i in range(len(x)):\n",
        "  # print('x is {}, min is {}, max is {}, i is {} '.format(x[i],df_min[i],df_max[i],i))\n",
        "  x_exp.append(minmax(x[i],df_min[i],df_max[i]))"
      ],
      "metadata": {
        "id": "FflRHut7iigI"
      },
      "execution_count": null,
      "outputs": []
    },
    {
      "cell_type": "code",
      "source": [
        "x_exp = dict(zip(col,x_exp))"
      ],
      "metadata": {
        "id": "dO6hoV6Apjk0"
      },
      "execution_count": null,
      "outputs": []
    },
    {
      "cell_type": "code",
      "source": [
        "x_exp = pd.DataFrame(x_exp, index = [0])\n",
        "y_exp_pred = new_model.predict(x_exp)\n",
        "y_exp_pred"
      ],
      "metadata": {
        "id": "ogXRXdsfg_US",
        "colab": {
          "base_uri": "https://localhost:8080/"
        },
        "outputId": "eec4ef78-b5c2-414c-a1bb-2f82e4cf5bc2"
      },
      "execution_count": null,
      "outputs": [
        {
          "output_type": "stream",
          "name": "stdout",
          "text": [
            "1/1 [==============================] - 0s 16ms/step\n"
          ]
        },
        {
          "output_type": "execute_result",
          "data": {
            "text/plain": [
              "array([[11.430708]], dtype=float32)"
            ]
          },
          "metadata": {},
          "execution_count": 23
        }
      ]
    },
    {
      "cell_type": "code",
      "source": [
        "type(x_exp)"
      ],
      "metadata": {
        "colab": {
          "base_uri": "https://localhost:8080/"
        },
        "id": "y6lhviwn-Cwq",
        "outputId": "4887a563-c49e-4d8e-83f5-5bbfa502c536"
      },
      "execution_count": null,
      "outputs": [
        {
          "output_type": "execute_result",
          "data": {
            "text/plain": [
              "pandas.core.frame.DataFrame"
            ]
          },
          "metadata": {},
          "execution_count": 26
        }
      ]
    }
  ]
}